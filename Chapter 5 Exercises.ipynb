{
 "cells": [
  {
   "cell_type": "markdown",
   "metadata": {},
   "source": [
    "A certain CS profressor gives 5-point quizzes that are graded on the scale 5-A, 4-B,3-C,1-F,0-F. Write a program that accepts a quiz score as an input and prints out the corresponding grade."
   ]
  },
  {
   "cell_type": "code",
   "execution_count": 1,
   "metadata": {},
   "outputs": [
    {
     "name": "stdout",
     "output_type": "stream",
     "text": [
      "This program will return your grades based on your quiz score.\n",
      "\n",
      "Enter your quiz points: 4\n",
      "Your grade was a B\n"
     ]
    }
   ],
   "source": [
    "#grades.py\n",
    "# prints your grade based on your quiz score\n",
    "\n",
    "def main():\n",
    "    \n",
    "    print('This program will return your grades based on your quiz score.')\n",
    "    print()\n",
    "    quiz_score = int(input('Enter your quiz points: '))\n",
    "    grade = ['F','F','D','C','B','A']\n",
    "    print('Your grade was a {}.'.format(grade[quiz_score]))\n",
    "main()"
   ]
  },
  {
   "cell_type": "markdown",
   "metadata": {},
   "source": [
    "_____________"
   ]
  },
  {
   "cell_type": "markdown",
   "metadata": {},
   "source": [
    "A certain CS professor gives 5 point quizzes that are graded on the scale 90-100: A, 80-89: B, 70-79: C, 60-69:D, <60 :F. Write a program that accepts an exam score as input and prints out the corresponding grade. "
   ]
  },
  {
   "cell_type": "code",
   "execution_count": 3,
   "metadata": {},
   "outputs": [
    {
     "name": "stdout",
     "output_type": "stream",
     "text": [
      "This program will print your final grade based on your test score.\n",
      "\n",
      "Enter your test score (0-100): 99\n",
      "Based on your test score of 99, your grade was A.\n"
     ]
    }
   ],
   "source": [
    "#grade.py\n",
    "# program that prints out your grades\n",
    "\n",
    "def main():\n",
    "    print('This program will print your final grade based on your test score.')\n",
    "    print()\n",
    "    test_score = int(input('Enter your test score (0-100): '))\n",
    "    grades = []\n",
    "    for i in range(60):\n",
    "        grades.append('F')\n",
    "    for i in range(10):\n",
    "        grades.append('D')\n",
    "    for i in range(10):\n",
    "        grades.append('C')\n",
    "    for i in range(10):\n",
    "        grades.append('B')\n",
    "    for i in range(10):\n",
    "        grades.append('A')\n",
    "    print('Based on your test score of {}, your grade was {}.'.format(test_score,grades[test_score]))\n",
    "main()"
   ]
  },
  {
   "cell_type": "markdown",
   "metadata": {},
   "source": [
    "_____________"
   ]
  },
  {
   "cell_type": "markdown",
   "metadata": {},
   "source": [
    "An acronym is a word formed by taking the first letters of thje words in a phrase and making a word from them. For example, RAM is an acronym for \"random access memory.\" Write a program that allows the user to type in a phrase and then outputs the acronym for that phrase. _Note_: The acronym should be all uppercase, even if the words in the phrase are not capitalized."
   ]
  },
  {
   "cell_type": "code",
   "execution_count": 8,
   "metadata": {},
   "outputs": [
    {
     "name": "stdout",
     "output_type": "stream",
     "text": [
      "This program will convert a phrase into an acronym.\n",
      "\n",
      "Enter a phrase: Random access memory\n",
      "The phrase: Random access memory , was reduced to the acronym RAM.\n"
     ]
    }
   ],
   "source": [
    "#acronym.py\n",
    "# generates acronyms from phrases\n",
    "\n",
    "def main():\n",
    "    print('This program will convert a phrase into an acronym.')\n",
    "    print()\n",
    "    \n",
    "    #get phrase from user\n",
    "    phrase = input('Enter a phrase: ')\n",
    "    \n",
    "    #put words into list, split at space\n",
    "    split_phrase = phrase.split()\n",
    "    \n",
    "    #create acronym with accumulator\n",
    "    acronym = ''\n",
    "    for word in split_phrase:\n",
    "        acronym = acronym + word[0]\n",
    "    print('The phrase: {}, was reduced to the acronym {}.'.format(phrase,acronym.upper()))\n",
    "    \n",
    "main()\n",
    "    "
   ]
  },
  {
   "cell_type": "markdown",
   "metadata": {},
   "source": [
    "_____________"
   ]
  },
  {
   "cell_type": "markdown",
   "metadata": {},
   "source": [
    "Numerologists claim to be able to determine a persons character traits based on the \"numeric value\" of a name. The value of a name is determined by summing up the values of the letters of the name where \"a\" is 1 \"b\" is 2 up to z being 26. For example, the name \"Zelle\" would have the value 60. Write a program that calculates the numeric value of a single named provided as input."
   ]
  },
  {
   "cell_type": "code",
   "execution_count": 12,
   "metadata": {},
   "outputs": [
    {
     "name": "stdout",
     "output_type": "stream",
     "text": [
      "Enter one name: bob\n",
      "2\n",
      "17\n",
      "19\n",
      "The numeric value of the name bob is 19.\n"
     ]
    }
   ],
   "source": [
    "#nanme.py\n",
    "# prints the numeric value of your name\n",
    "\n",
    "def main():\n",
    "    \n",
    "    alphabet = 'ABCDEFGHIJKLMNOPQRSTUVWXYZ'\n",
    "    \n",
    "    name = input('Enter one name: ')\n",
    "    numeric_value = 0\n",
    "    for character in name:\n",
    "        #find the position of a character in a string\n",
    "        pos = alphabet.find(character.upper())\n",
    "        numeric_value += pos + 1\n",
    "    print('The numeric value of the name {} is {}.'.format(name,numeric_value))\n",
    "main()\n",
    "\n"
   ]
  },
  {
   "cell_type": "markdown",
   "metadata": {},
   "source": [
    "_____________"
   ]
  },
  {
   "cell_type": "markdown",
   "metadata": {},
   "source": [
    "Expand your solution to the previous problem to allow the calculation of a complete name such as \"John Marvin Zelle.\" The total value is just the sum of the numeric values of the name"
   ]
  },
  {
   "cell_type": "code",
   "execution_count": 15,
   "metadata": {},
   "outputs": [
    {
     "name": "stdout",
     "output_type": "stream",
     "text": [
      "This program will return the numeric value of your name.\n",
      "\n",
      "Enter a full name separated by spaces: bob henson\n",
      "2\n",
      "17\n",
      "19\n",
      "27\n",
      "32\n",
      "46\n",
      "65\n",
      "80\n",
      "94\n",
      "The numeric value of the name bob henson is 94.\n"
     ]
    }
   ],
   "source": [
    "#names.py\n",
    "# prints the numeric value of full names\n",
    "\n",
    "def main():\n",
    "    print('This program will return the numeric value of your name.')\n",
    "    print()\n",
    "    alphabet = 'ABCDEFGHIJKLMNOPQRSTUVWXYZ'\n",
    "    name = input('Enter a full name separated by spaces: ')\n",
    "    split_name = name.split()\n",
    "    numeric_value = 0\n",
    "    for names in split_name:\n",
    "        for character in names:\n",
    "            pos = alphabet.find(character.upper())\n",
    "            numeric_value += pos + 1\n",
    "            print(numeric_value)\n",
    "    print('The numeric value of the name {} is {}.'.format(name,numeric_value))\n",
    "    \n",
    "main()\n",
    "    "
   ]
  },
  {
   "cell_type": "markdown",
   "metadata": {},
   "source": [
    "_____________"
   ]
  }
 ],
 "metadata": {
  "kernelspec": {
   "display_name": "Python 3",
   "language": "python",
   "name": "python3"
  },
  "language_info": {
   "codemirror_mode": {
    "name": "ipython",
    "version": 3
   },
   "file_extension": ".py",
   "mimetype": "text/x-python",
   "name": "python",
   "nbconvert_exporter": "python",
   "pygments_lexer": "ipython3",
   "version": "3.7.3"
  }
 },
 "nbformat": 4,
 "nbformat_minor": 2
}
