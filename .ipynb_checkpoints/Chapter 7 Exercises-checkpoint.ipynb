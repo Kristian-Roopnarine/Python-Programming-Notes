{
 "cells": [
  {
   "cell_type": "markdown",
   "metadata": {},
   "source": [
    "Many companies pay time and a half for any hours worked above 40 in a given week. Write a program to input the number of hours worked and the hourly rate and calculate the total wages for the week. "
   ]
  },
  {
   "cell_type": "code",
   "execution_count": 2,
   "metadata": {},
   "outputs": [
    {
     "name": "stdout",
     "output_type": "stream",
     "text": [
      "This program calculates your weekly paycheck.\n",
      "\n",
      "Enter the amount of hours you worked this week: 50\n",
      "Enter your hourly pay rate: 20\n",
      "Your total pay with 40 hours is 1100.0 dollars.\n"
     ]
    }
   ],
   "source": [
    "def main():\n",
    "    print('This program calculates your weekly paycheck.\\n')\n",
    "    hours = float(input('Enter the amount of hours you worked this week: '))\n",
    "    pay_rate = float(input('Enter your hourly pay rate: '))\n",
    "    \n",
    "    if hours > 40:\n",
    "        overtime_hours = hours - 40\n",
    "        hours = 40\n",
    "        total_pay = (hours * pay_rate) + (pay_rate * 1.5 * overtime_hours)\n",
    "    else:\n",
    "        total_pay = hours * pay_rate\n",
    "    print('Your total pay with {} hours is {} dollars.'.format(hours,total_pay))\n",
    "main()"
   ]
  },
  {
   "cell_type": "markdown",
   "metadata": {},
   "source": [
    "--------"
   ]
  },
  {
   "cell_type": "markdown",
   "metadata": {},
   "source": [
    "A certain CS professor gives five-point quizzes that are graded on the scale 5-A,4-B,3-C,1-F,-F. Write a program that accepts a quiz score as an input and uses a decision structure to calculate the corresponding grade."
   ]
  },
  {
   "cell_type": "code",
   "execution_count": 8,
   "metadata": {},
   "outputs": [
    {
     "name": "stdout",
     "output_type": "stream",
     "text": [
      "This program will return your grade from your last 5-point CS quiz.\n",
      "\n",
      "Enter your grade (1-5): *\n",
      "You didn't enter a number.\n"
     ]
    }
   ],
   "source": [
    "def main():\n",
    "    print('This program will return your grade from your last 5-point CS quiz.\\n')\n",
    "    try:\n",
    "        point = int(input('Enter your grade (1-5): '))\n",
    "        if 0 < point < 5: \n",
    "            if point == 5:\n",
    "                print('You received an A.')\n",
    "            elif point == 4:\n",
    "                print('You recieveed a B.')\n",
    "            elif point == 3:\n",
    "                print('You recieved a C.')\n",
    "            elif point == 2:\n",
    "                print('You received a D.')\n",
    "            else:\n",
    "                print('You recieved a F.')\n",
    "        else:\n",
    "            print('You didn\\'t enter a number within the range.')\n",
    "    except ValueError:\n",
    "        print('You didn\\'t enter a number.')\n",
    "main()\n",
    "\n",
    "    "
   ]
  },
  {
   "cell_type": "markdown",
   "metadata": {},
   "source": [
    "--------"
   ]
  },
  {
   "cell_type": "markdown",
   "metadata": {},
   "source": [
    "A certain college classifies students according to credits earned. A student with less than 7 credits is a Freshman. At least 7 credits are required to be a Sophomore, 16 to be a Junior and 26 to be classified as a Senior. Write a program that calculates class standing from the number of credits earned"
   ]
  },
  {
   "cell_type": "code",
   "execution_count": 16,
   "metadata": {},
   "outputs": [
    {
     "name": "stdout",
     "output_type": "stream",
     "text": [
      "Enter the number of credits you've earned: 9\n",
      "You are a Sophomore.\n"
     ]
    }
   ],
   "source": [
    "def main():\n",
    "    credits = int(input('Enter the number of credits you\\'ve earned: '))\n",
    "    if credits >= 26:\n",
    "        grade = 'Senior'\n",
    "        print('You are a {}.'.format(grade))\n",
    "    elif 16 <= credits <= 25:\n",
    "        grade = 'Junior'\n",
    "        print('You are a {}.'.format(grade))\n",
    "    elif 8 <= credits <= 15:\n",
    "        grade = 'Sophomore'\n",
    "        print('You are a {}.'.format(grade))\n",
    "    elif credits <= 7:\n",
    "        grade = 'Freshmen'\n",
    "        print('You are a {}.'.format(grade))\n",
    "    else:\n",
    "        print('With the amount of credits you entered, I am not sure.')\n",
    "main()        "
   ]
  },
  {
   "cell_type": "markdown",
   "metadata": {},
   "source": [
    "--------"
   ]
  }
 ],
 "metadata": {
  "kernelspec": {
   "display_name": "Python 3",
   "language": "python",
   "name": "python3"
  },
  "language_info": {
   "codemirror_mode": {
    "name": "ipython",
    "version": 3
   },
   "file_extension": ".py",
   "mimetype": "text/x-python",
   "name": "python",
   "nbconvert_exporter": "python",
   "pygments_lexer": "ipython3",
   "version": "3.7.3"
  }
 },
 "nbformat": 4,
 "nbformat_minor": 2
}
