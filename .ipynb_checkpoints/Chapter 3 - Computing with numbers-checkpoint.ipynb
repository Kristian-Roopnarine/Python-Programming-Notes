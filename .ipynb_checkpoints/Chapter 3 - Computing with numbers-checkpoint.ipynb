{
 "cells": [
  {
   "cell_type": "markdown",
   "metadata": {},
   "source": [
    "## Numeric data types\n",
    "\n",
    "There are different types of number data types you can have in Python and many programming languages which are ints and floats. Whole numbers are represented using the _int_ data type. Values of type _int_ can be a positive or negative whole number. Numbers that have fractional parts are represented as a float data type. Python has a _type_ function that can tell us the data type of any value."
   ]
  },
  {
   "cell_type": "markdown",
   "metadata": {},
   "source": [
    "_____________"
   ]
  },
  {
   "cell_type": "markdown",
   "metadata": {},
   "source": [
    "## Type Conversions and Rounding\n",
    "\n",
    "We can convert floats to ints and vice versa. Converting floats to ints can be dangerous because the fractional information is lost upon converion but converting ints to floats does not lead to any information loss. We can do this with _mixed-type expressions_. When performing operations involving both floats and ints Python will convert them to produce a float data type. If we want to manually convert these data types we can use the Python built-in functions _int_ and _float_.\n",
    "\n",
    "A general way to round numbers is to use Python's built-in _round_ function, which rounds a number to the nearest whole value. Calling _round_ will return an _int_ value and is an alternate way of converting a _float_ to an _int_. If you'd like to round a _float_ to another _float_ you can apply a second parameter to _round_ that specifies the number of digits you want after the decimal point."
   ]
  },
  {
   "cell_type": "markdown",
   "metadata": {},
   "source": [
    "_____________"
   ]
  },
  {
   "cell_type": "markdown",
   "metadata": {},
   "source": [
    "## Using the Math Library\n",
    "\n",
    "Python provides many other useful mathematical operations in a special _math_ library. An example will be the quadratic equation:\n",
    "\n",
    "```python\n",
    "#quadratic.py\n",
    "#A program that computes the real roots of a quadratic equation\n",
    "#Illustrates the use of the math library.\n",
    "# Note: The program crashes if no real roots are found\n",
    "\n",
    "import math\n",
    "\n",
    "def main():\n",
    "    print('This program finds the real solutions to a quadratic.')\n",
    "    print()\n",
    "    \n",
    "    a = float(input('Enter coefficient a: '))\n",
    "    b= float(input('Enter coefficient b: '))\n",
    "    c = float(input('Enter coefficient c: '))\n",
    "    \n",
    "    discRoot = math.sqrt(b * b - 4 * a * c)\n",
    "    root1 = (-b + discRoot) / (2 * a)\n",
    "    root2 = (-b - discRoot) / (2 * a)\n",
    "    \n",
    "    print()\n",
    "    print('The real solutions are:', root1,root2)\n",
    "```\n",
    "\n",
    "Here we used the _.sqrt_ which is a function that lives in the _math_ module. "
   ]
  },
  {
   "cell_type": "markdown",
   "metadata": {},
   "source": [
    "_____________"
   ]
  },
  {
   "cell_type": "markdown",
   "metadata": {},
   "source": [
    "## Accumulating Results: Factorials\n",
    "\n",
    "Let's write a program that will compute the factorial of a number entered by the user. The basic outline for the program follows an input, process, output pattern:\n",
    "\n",
    "1.Input number to take factorial of , n\n",
    "\n",
    "2.Compute factorial of n, fact\n",
    "\n",
    "3.Output fact\n",
    "\n",
    "The tricky part is step number 2. Essentially what we are doing are repeated multiplications and we keep track of the running product. This is a very common algorithmic pattern called an _accumulator_. We build up, or accumulate, a final value piece by piece. The general pattern for an _accumulator_ looks like:\n",
    "\n",
    "1.Initialize the accumulator variable\n",
    "2.Loop until final result is reached\n",
    "    update the value of accumulator variable\n",
    "    \n",
    "We can create this by using a _for_ loop:\n",
    "\n",
    "```python\n",
    "\n",
    "fact = 1\n",
    "for factor in [6,5,4,3,2,1]:\n",
    "    fact = fact * factor\n",
    "```\n",
    "This is a good start for out factorial program. The only issue is that this only calculates the factorial for the number 6. How can we generalize this to calculate the factorial for any number? We can use Python's built-in _range_ function to produce a list of factorials for us:\n",
    "\n",
    "```python \n",
    "#factorial.py\n",
    "#Program to compute the factorial of a number\n",
    "#Illustrates for loop with an accumulator\n",
    "\n",
    "def main():\n",
    "    n = int(input('Please enter a whole number: '))\n",
    "    fact = 1\n",
    "    for factor in range(n,1,-1):\n",
    "        fact = fact * factor\n",
    "    print('The factorial of', n , 'is', fact)\n",
    "```\n",
    "\n",
    "We used the _range_ function with some extra parameters. The third parameter, -1, tells the _range_ function how to increment. With the parameter as -1 the _range_ function will start at n and count backwards until it reaches but does not include 1. This effectively produces the integers for the factorial of n."
   ]
  },
  {
   "cell_type": "markdown",
   "metadata": {},
   "source": [
    "_____________"
   ]
  },
  {
   "cell_type": "markdown",
   "metadata": {},
   "source": [
    "## Chapter Summary\n",
    "\n",
    "Here is a quick summary of key concepts:\n",
    "\n",
    "* The way a computer represents a particular kind of information is called a data type. The data type of an object determines what values it can have and what operations it supports.\n",
    "\n",
    "\n",
    "* Python has several different data types for representing numeric values, including int and float.\n",
    "\n",
    "\n",
    "* Whole numbers are generally represented using the int data type, and fractional values are represented using floats. All of the Python numeric data types support standard, built-in mathematical operations: addition (+), subtraction (-), multiplication(\" * \"), division (/), integer division (//), remainder (%), exponentiation (\" ** \"), and absolute value (abs(x)).\n",
    "\n",
    "\n",
    "* Python automatically converts numbers from one data type to another in certain situations. For example, in a mixed-type expression involving ints and floats, Python first converts the ints into floats and then uses float arithmetic.\n",
    "\n",
    "\n",
    "* Programs may also explicitly convert one data type into another using the functions float(), int(), round(). Type conversion functions should generally be used in place of eval for handling numeric user inputs.\n",
    "\n",
    "\n",
    "* Additional mathematical functions are defined in the math library. To use these functinos, a program must first import the library.\n",
    "\n",
    "\n",
    "* Numerical results are often calculated by computing the sum or product of a sequence of values. The loop accumulator programming pattern is useful for this sort of calculation. "
   ]
  }
 ],
 "metadata": {
  "kernelspec": {
   "display_name": "Python 3",
   "language": "python",
   "name": "python3"
  },
  "language_info": {
   "codemirror_mode": {
    "name": "ipython",
    "version": 3
   },
   "file_extension": ".py",
   "mimetype": "text/x-python",
   "name": "python",
   "nbconvert_exporter": "python",
   "pygments_lexer": "ipython3",
   "version": "3.7.3"
  }
 },
 "nbformat": 4,
 "nbformat_minor": 2
}
