{
 "cells": [
  {
   "cell_type": "markdown",
   "metadata": {},
   "source": [
    "# Chapter 2"
   ]
  },
  {
   "cell_type": "markdown",
   "metadata": {},
   "source": [
    "_______________________________________________________________________________________________________________________________"
   ]
  },
  {
   "cell_type": "markdown",
   "metadata": {},
   "source": [
    "## The software development process\n",
    "\n",
    "##### Analyze the problem \n",
    "Figure out exactly what the problem to be solved is. Try to understand as much as possible about it. Know the problem first before trying to solve it.\n",
    "\n",
    "#### Determine Specifications\n",
    "Describe what your program will do, but do not worry about how it will work. Instead think about deciding exactly what your program will accomplish. For simple programs this is describing the inputs and outputs of the program and how theyr elate to each other.\n",
    "\n",
    "#### Create a Design\n",
    "Formulate the overall structure of the program. This is where the how of the program gets worked out. The main task is to design the algorithms that will meet the specifications.\n",
    "\n",
    "#### Implement the design\n",
    "Translate the design into a computer language.\n",
    "\n",
    "#### Test/Debug\n",
    "Try out your prorgam and see whether it works as expected. Fix any bugs (errors) in your program.\n",
    "\n",
    "#### Maintain the program\n",
    "Continue developing the program in response to the needs of the users.\n",
    "\n"
   ]
  },
  {
   "cell_type": "markdown",
   "metadata": {},
   "source": [
    "_______________________________________________________________________________________________________________________________"
   ]
  },
  {
   "cell_type": "markdown",
   "metadata": {},
   "source": [
    "## Example program: Temperature converter"
   ]
  },
  {
   "cell_type": "code",
   "execution_count": 2,
   "metadata": {},
   "outputs": [
    {
     "name": "stdout",
     "output_type": "stream",
     "text": [
      "What is the Celsius temperature? 5\n",
      "The temperature is 41.0  degrees fahrenheit\n"
     ]
    }
   ],
   "source": [
    "# convert.py\n",
    "# A program to convert Celsius temps to Fahrenheit\n",
    "\n",
    "def main():\n",
    "    celsius = eval(input('What is the Celsius temperature? '))\n",
    "    fahrenheit = 9/5 * celsius + 32\n",
    "    print('The temperature is', fahrenheit, ' degrees fahrenheit')\n",
    "main()"
   ]
  },
  {
   "cell_type": "markdown",
   "metadata": {},
   "source": [
    "_______________________________________________________________________________________________________________________________"
   ]
  },
  {
   "cell_type": "markdown",
   "metadata": {},
   "source": [
    "## Elements of a program\n",
    "\n",
    "### Names\n",
    "\n",
    "Names are an import part of programming. We can give names to modules, and the functions within modules. Variables are used to give names to values and all these names are called identifiers. Python has some rules about how identifiers are formed. Every identifier must begin with a letter or underscore character which may be followed by any sequence of letters, digits or underscores. Identifiers are case sensitive. There are some identifiers that are part of Python itself and cannot be used as ordinary identifiers called _reverse keywords_.\n",
    "\n",
    "### Expressions\n",
    "\n",
    "Programs manipulate data. The parts of program code that produce or calculate new data values are called _expressions_. The simplest kind of expression is a literal. Literals are used to indicate a specific value. The process of turning an expression into an underlying data type is called _evaluation_. What is being evaluated are the expressions that you type out. A simple identifier can also be an expression because we used them as variables to give names to values. When an identifier appears as an expression, its value is retrieved to provide a result for the expression. \n",
    "\n",
    "### Assignment Statements\n",
    "\n",
    "#### Simple Assignment\n",
    "\n",
    "The basic assignment statement has this form:\n",
    "\n",
    "variable = expression\n",
    "\n",
    "The semantics of this are that the expression on the right is evaluated to produce a value, which is the asssociated with the variable named on the left side. A variable can be assigned many times and always retains the value of the most recent assignment. The current values of variables can be updated using operators like multiplication, addition, division etc. It's helpful to think of a variable as a sort of named sotrage location in a computers memory, a box that we can put a value in. When the variable changes the old value is erased and a new one is written in. \n",
    "\n",
    "Python assignment statements work a bit differently from the \"variable as a box\" model. In Python, values may end up anywhere in computer memory and variables are used to refer to them. Assigning a variable is like putting a sticky note on a value and saying, \"this is x.\" When a new value is assigned to a variable the sticky note is moved to that new variable and the old value remains in memory. You don't have to worry about your memory being filled with all these old values because once a value is no longer referred to any variable, it is no longer useful. Python automatically clears these values out of memory so that the space can be used for new values. This process of automatic memory management is called _garbage collection_.\n",
    "\n",
    "#### Assigning input\n",
    "\n",
    "The purpose of an input statement is to get a value from a user and store it in a variable. In Python we are able to do this using the built in function _input_ and assigning it to a variable. The exact form of an input statement depends on what type of data you are trying to get from the user. By default _input_ returns a string, if you want to return an integer you need to wrap the _input_ in an _eval_ function. In this form, the text typed by the user is evaluated as an expression to produce the value that is stored into the variable. \n",
    "\n",
    "Using _eval_ can be very dangerous. Eval will evaluate expression that our user inputs. If the user knows Python they could exploit this to enter malicious instructions. \n",
    "\n",
    "\n",
    "#### Simultaneous Assignment\n",
    "\n",
    "We can assign multiple variables to values in the same line of code. Semantically, this tells Python to evaluate all the expressions on the right-hand side and then assign these values to the corresponding variables named on the left-hand side. This simultaneous assignment may seem weird but it is useful when you want to swap the values of two variables. You can also use this to get multiple values from the user in a single input.\n",
    "\n"
   ]
  },
  {
   "cell_type": "markdown",
   "metadata": {},
   "source": [
    "_______________________________________________________________________________________________________________________________"
   ]
  },
  {
   "cell_type": "markdown",
   "metadata": {},
   "source": [
    "## Definite Loops\n",
    "\n",
    "Programmers use loops to execute a sequence of statements multiple times in succession. The simplest loop is a definite loop, which is one the executes x amounts of times. One type of definite loop is a counted _for loop_. A Python for loop has the general form:\n",
    "\n",
    "for variable in sequence:\n",
    "    \n",
    "    code body\n",
    "\n",
    "The code body can be any sequence of Python statements. The variable after the keyword _for_ is called the loop index. It takes on each successive value in the sequence, and the statements in the code body are executed once for each value. \n",
    "\n",
    "When you want to do something in your program a certain number of times, used a for loop with a sutiable range. "
   ]
  },
  {
   "cell_type": "markdown",
   "metadata": {},
   "source": [
    "_______________________________________________________________________________________________________________________________"
   ]
  },
  {
   "cell_type": "markdown",
   "metadata": {},
   "source": [
    "## Chapter Summary\n",
    "\n",
    "\n",
    "* Writing programs requires a systematic approach to problem solving and involves the following steps:\n",
    "    1. Problem analysis: Studying the problem to be solved\n",
    "    2. Program Specification: Deciding what exactly the program will do.\n",
    "    3. Design: Writing an algorithm in pseudocode\n",
    "    4. Implementation: Translating the design into programming language.\n",
    "    5. Test/Debugging: Finding and fixing errors.\n",
    "    6. Maintenance: Keeping the program up to date with evolving needs.\n",
    "\n",
    "\n",
    "* Many simple programs follow the input, process, output (IPO) pattern.\n",
    "\n",
    "\n",
    "* Programs are composed of statements that are built from identifiers and expressions.\n",
    "\n",
    "\n",
    "* Identifiers are names; they being with an underscore or letter which can be followed by a combination of letters, digits, or underscore charcters. These identifiers are case sensitive in Python.\n",
    "\n",
    "\n",
    "* Expressions are parts of a program that produce data. An expression can be composed of the following components:\n",
    "\n",
    "__literals__ A literal is a representation of a specific value. \n",
    "\n",
    "__variable__ A variable is an identifier that stores a value.\n",
    "\n",
    "__operators__ Operators are used to combine expressions into more complex expressions.\n",
    "\n",
    "\n",
    "* The Python operators include the usual arithmetic operations.\n",
    "\n",
    "\n",
    "* The Python print function displays the values of a series of expressions to the screen.\n",
    "\n",
    "\n",
    "* In Python, assignment of a variable to a value is indicated using the equal sign. With assignment programs can get input from the keyboard. Python supports simultaneous assignment, which is useful for getting multiple inputs values from a single prompt.\n",
    "\n",
    "\n",
    "* The eval function can be used to evaluate user input, but use cautiously because it can evaluate expressions that can be dangerous. \n",
    "\n",
    "\n",
    "* Definite loops are loops that execute a known numbers of times. The Python for statements is a definite loop that iterates through a sequence of values. A Python list is often used in a for loop to provide a sequence of values for the loop.\n",
    "\n",
    "\n",
    "* One importtant use of a for statement is a counted loop, which is a loop designed specifically for the purpose of repeating some potion of the program a specific number of times. A counted loop in Python is created by using the built-in range function to produce a suitable sized sequence of numbers.\n",
    "\n"
   ]
  },
  {
   "cell_type": "code",
   "execution_count": null,
   "metadata": {},
   "outputs": [],
   "source": []
  }
 ],
 "metadata": {
  "kernelspec": {
   "display_name": "Python 3",
   "language": "python",
   "name": "python3"
  },
  "language_info": {
   "codemirror_mode": {
    "name": "ipython",
    "version": 3
   },
   "file_extension": ".py",
   "mimetype": "text/x-python",
   "name": "python",
   "nbconvert_exporter": "python",
   "pygments_lexer": "ipython3",
   "version": "3.7.3"
  }
 },
 "nbformat": 4,
 "nbformat_minor": 2
}
