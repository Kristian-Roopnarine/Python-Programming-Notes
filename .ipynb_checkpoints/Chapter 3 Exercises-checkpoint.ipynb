{
 "cells": [
  {
   "cell_type": "markdown",
   "metadata": {},
   "source": [
    "Write a program to calculate the volume and surface area of a sphere from its radius, given as input."
   ]
  },
  {
   "cell_type": "code",
   "execution_count": 1,
   "metadata": {},
   "outputs": [
    {
     "name": "stdout",
     "output_type": "stream",
     "text": [
      "This program will calculate the volume and surface area of a sphere.\n",
      "\n",
      "Enter the radius of the sphere: 5\n",
      "With radius 5.0, the volume is 523.5987755982989 and the area is 314.1592653589793.\n"
     ]
    }
   ],
   "source": [
    "#sphere.py\n",
    "#calculates the volume and surface area of a sphere\n",
    "import math \n",
    "\n",
    "def main():\n",
    "    print('This program will calculate the volume and surface area of a sphere.')\n",
    "    print()\n",
    "    radius = float(input('Enter the radius of the sphere: '))\n",
    "    volume = 4/3 * math.pi * radius**3\n",
    "    area = 4 * math.pi * radius**2\n",
    "    print('With radius %s, the volume is %s and the area is %s.' % (radius,volume,area))\n",
    "\n",
    "main()"
   ]
  },
  {
   "cell_type": "markdown",
   "metadata": {},
   "source": [
    "_________"
   ]
  },
  {
   "cell_type": "markdown",
   "metadata": {},
   "source": [
    "Write a program that calculates the cost per square inch of a circular pizza given its diameter and price. "
   ]
  },
  {
   "cell_type": "code",
   "execution_count": 5,
   "metadata": {},
   "outputs": [
    {
     "name": "stdout",
     "output_type": "stream",
     "text": [
      "This program will tell you how much your pizza costs per square inch.\n",
      "\n",
      "Enter the diameter of your pizza in inches: 15\n",
      "Enter the price of your pizza in dollars: 25\n",
      "Your pizza costs 0.141 dollars per square inch.\n"
     ]
    }
   ],
   "source": [
    "#pizza.py\n",
    "#calculates the cost of pizza per square inch\n",
    "\n",
    "import math\n",
    "\n",
    "def main():\n",
    "    print('This program will tell you how much your pizza costs per square inch.')\n",
    "    print()\n",
    "    diameter = float(input('Enter the diameter of your pizza in inches: '))\n",
    "    cost = float(input('Enter the price of your pizza in dollars: '))\n",
    "    radius = diameter/2\n",
    "    area = math.pi * radius**2\n",
    "    psi = round(cost/area,3)\n",
    "    print('Your pizza costs %s dollars per square inch.' % (psi))\n",
    "\n",
    "main()"
   ]
  },
  {
   "cell_type": "markdown",
   "metadata": {},
   "source": [
    "_________"
   ]
  },
  {
   "cell_type": "markdown",
   "metadata": {},
   "source": [
    "Write a program that computes the molecular weight of a carbohydrate ( in grams per mole) based on the number of hydrogen,carbon, and oxygen atoms in the molecule. The program should prompt the user to enter the number of hydrogen atoms, the number of carbon atoms, and the number of oxygen atoms. The program then prints the total combined molecular weight of all the atoms based on the individual atomic weights:\n",
    "\n",
    "Hydrogen = 1.00794 g/mol\n",
    "\n",
    "Carbon = 12.0107 g/mol\n",
    "\n",
    "Oxygen = 15.9994 g/mol"
   ]
  },
  {
   "cell_type": "code",
   "execution_count": 7,
   "metadata": {},
   "outputs": [
    {
     "name": "stdout",
     "output_type": "stream",
     "text": [
      "Enter the number of Hyrdogen atoms: 5\n",
      "Enter the number of Carbon atoms: 5\n",
      "Enter the number of Oxygen atoms: 5\n",
      "The molecular weight of your carbohydrate is 145.0632 grams/mole.\n"
     ]
    }
   ],
   "source": [
    "#molecularweight.py\n",
    "#calculates the molecular weight of a carbohydrate\n",
    "\n",
    "def main():\n",
    "    hydrogen_weight = 1.00794 # g/mol\n",
    "    carbon_weight = 12.0107 # g/mol\n",
    "    oxygen_weight = 15.994 # g/mol\n",
    "    num_hydrogen = int(input('Enter the number of Hyrdogen atoms: '))\n",
    "    num_carbon = int(input('Enter the number of Carbon atoms: '))\n",
    "    num_oxygen = int(input('Enter the number of Oxygen atoms: '))\n",
    "    molecular_weight = (hydrogen_weight * num_hydrogen) + (carbon_weight * num_carbon) + (oxygen_weight * num_oxygen)\n",
    "    print('The molecular weight of your carbohydrate is %s grams/mole.' % (molecular_weight))\n",
    "main()"
   ]
  },
  {
   "cell_type": "markdown",
   "metadata": {},
   "source": [
    "_________"
   ]
  },
  {
   "cell_type": "markdown",
   "metadata": {},
   "source": [
    "Write a program that determines the distance to a lightning strike based on the time elapsed between the flash and the sound of thunder. The speed of sound is approximately 1100 ft/sec and 1 mile is 5280 ft."
   ]
  },
  {
   "cell_type": "code",
   "execution_count": 9,
   "metadata": {},
   "outputs": [
    {
     "name": "stdout",
     "output_type": "stream",
     "text": [
      "This program will calculate the distance of lightning strikes based on the time elapsed between the flash and sound of thunder\n",
      "\n",
      "Enter the time between the lightning strike and sound of thunder in seconds: 1\n",
      "The lightning strike was 1100.0 feet or 0.208 miles away.\n"
     ]
    }
   ],
   "source": [
    "#lighting.py\n",
    "#calculates the distance between you and a lightning strike based on thunder\n",
    "\n",
    "def main():\n",
    "    print('This program will calculate the distance of lightning strikes based on the time elapsed between the flash and sound of thunder')\n",
    "    print()\n",
    "    time_elapsed = float(input('Enter the time between the lightning strike and sound of thunder in seconds: '))\n",
    "    speed_of_sound = 1100 # ft/sec\n",
    "    distance = time_elapsed * speed_of_sound\n",
    "    mile = 5280 # ft\n",
    "    miles = round(distance/mile,3)\n",
    "    print('The lightning strike was %s feet or %s miles away.' % (distance,miles))\n",
    "main()"
   ]
  },
  {
   "cell_type": "code",
   "execution_count": null,
   "metadata": {},
   "outputs": [],
   "source": []
  }
 ],
 "metadata": {
  "kernelspec": {
   "display_name": "Python 3",
   "language": "python",
   "name": "python3"
  },
  "language_info": {
   "codemirror_mode": {
    "name": "ipython",
    "version": 3
   },
   "file_extension": ".py",
   "mimetype": "text/x-python",
   "name": "python",
   "nbconvert_exporter": "python",
   "pygments_lexer": "ipython3",
   "version": "3.7.3"
  }
 },
 "nbformat": 4,
 "nbformat_minor": 2
}
