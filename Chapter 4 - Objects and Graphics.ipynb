{
 "cells": [
  {
   "cell_type": "markdown",
   "metadata": {},
   "source": [
    "## The Object of Objects\n",
    "\n",
    "The basic idea of object-oriented development is to view complex systems as the interaction of simpler _objects_. You can think of an OO object as sort of active data type that combines both operations and data. Simply put, objects _know stuff_ and they can _do stuff_. These objects interact by sending each other messages and a message is simply a request for an object to perform one of its operations. "
   ]
  },
  {
   "cell_type": "markdown",
   "metadata": {},
   "source": [
    "_________"
   ]
  },
  {
   "cell_type": "markdown",
   "metadata": {},
   "source": [
    "## Simple Graphics Programming\n",
    "\n",
    "For this textbook we're going to use the graphics module that is provided. It is a warpper around Tkinter to teach about objects. Place the downloaded file in the same folder as this file to be imported. Once in the same directory we can import the module :\n",
    "\n",
    "```python\n",
    "import graphics\n",
    "```\n",
    "\n",
    "To create a place on the screen where the graphics will show we need to create a window. This is a _graphics window_ called GraphWin in the module:\n",
    "\n",
    "```python\n",
    "win = graphics.GraphWin()\n",
    "```\n",
    "\n",
    "This function creates a new window on the screen. The GraphWin is an object and we assigned it to the variable win. Now we can manipulate the window object through the variable name, win. When we are done with the window, we can destory it using this variable.\n",
    "\n",
    "```python\n",
    "win.close()\n",
    "```\n",
    "\n",
    "We're using the dot notation again but this time it's with the variable name. This is because we assigned the win variable as an object of type GraphWin. \n",
    "\n",
    "Instead of using the dot notation we can import everything from the graphics module as follows:\n",
    "\n",
    "```python\n",
    "from graphcis import *\n",
    "\n",
    "win = GraphWin()\n",
    "```\n",
    "\n",
    "Now that we've imported everything let's try drawing some examples. A graphics window is just a collection of tiny points called pixels. By default the GraphWin is 200 pixels tall and 200 pixels wide. The simplest object in the graphics module is a Point. The point is a location in space and it can be referred to by a set of coordinate points. We can define a point by supplying the x and y coordinates for the point. Traditionally graphics programmers will define the top left of the window as the origin, (0,0). The x values will increase from left to right and the y values will increase from top to bottom. \n",
    "\n"
   ]
  },
  {
   "cell_type": "markdown",
   "metadata": {},
   "source": [
    "_________"
   ]
  },
  {
   "cell_type": "markdown",
   "metadata": {},
   "source": [
    "## Using Graphical Objects\n",
    "\n",
    "Every object is an _instance_ of some class, and the class describes the properties the instances will have. Comparing this to biology, let's say we have a dog named Fido. We are actually saying that Fido is a specific individual of the larger class containing all dogs. In OO terminology, Fido would be an instance of the dof class. Because Fido is an instance of this class we can assume and expect certain things such as the amount of legs, a tail, and that he barks. If we had another dog Rex, we could expect that Rex will have similar properties but may differ in some of them. \n",
    "\n",
    "This same idea holds for computational objects. With the Graphics module we can create two separate instances of a Point class. Each of these points will have an x and y value associated with it and they'll both support the same set of operations like getX and draw. To create a new instance of a class, we use a special operation called a _constructor_. A call to a constructor is an expression that creates a brand new object. The general form of the constructor is:\n",
    "\n",
    "(class-name)(param1,param2....)\n",
    "\n",
    "The class-name is the name of the class that we want to create a new instance of. The expressions in the parenthesis are parameters required to intialize the new object. These intializing parameters can differ depending on the class, sometimes it may be strings, numbers or a mixture of data types. Let's take a look at what happens when we initialize a new object using the Point class.\n",
    "\n",
    "```python\n",
    "p = Point(50,60)\n",
    "```\n",
    "\n",
    "The constructor for our Point class requires two parameters giving the _x_ and _y_ coordinates for the new point. These values are stored as _instance variables_ inside the object. In this case Python creates an instance of Point having the _x_ value of 50 and _y_ value of 60. This point is then assigned to the variable p. To perform an operation on an object, we send the object a message. The messages that an object responds to are called the _methods_ of the object. Methods are functions that live inside the object. To send a message to the object or invoke the method you use dot notation:\n",
    "\n",
    "```python\n",
    "object.method-name(param1....)\n",
    "```\n",
    "\n",
    "The data types of the parameters are dependent on the method being used. Some methods can require no parameters. Examples of some methods can be found in the Point class:\n",
    "\n",
    "```python\n",
    "\n",
    "p.getX()\n",
    "p.getY()\n",
    "```\n",
    "\n",
    "The getX and getY methods return the _x_ and _y_ values of a point. These methods are sometimes called _accessors_ because they are used to accesss information from the instance variables of the object. Other methods can change the values of an objects instance variables, which change the _state_ of the object. All of the graphical objects have a move method:\n",
    "\n",
    "```python\n",
    "move(dx,dy) # Moves the object dx units in the x direction and dy units in the y direction.\n",
    "```\n",
    "\n",
    "To move a point p to the right 10 units we could use this statement:\n",
    "\n",
    "```python\n",
    "p.move(10,0)\n",
    "```\n",
    "\n",
    "Some methods require parameters that are themselves complex objects. For example, drawing a Circle into GraphWin involves two objects.\n",
    "\n",
    "```python\n",
    "circ = Circle(Point(100,100),30)\n",
    "win = GraphWin()\n",
    "circ.draw(win)\n",
    "```\n",
    "\n",
    "The first expression creates a circle at the point (100,100) with a radius of 30. The second line creates the graphical window and the third line makes a request for the circ object to draw itself into the win object. \n",
    "\n",
    "One very important thing to remember about objects is that it is possible for two different variables to refer to the same object. Changes made to one object through one variable will also appear in the other. "
   ]
  }
 ],
 "metadata": {
  "kernelspec": {
   "display_name": "Python 3",
   "language": "python",
   "name": "python3"
  },
  "language_info": {
   "codemirror_mode": {
    "name": "ipython",
    "version": 3
   },
   "file_extension": ".py",
   "mimetype": "text/x-python",
   "name": "python",
   "nbconvert_exporter": "python",
   "pygments_lexer": "ipython3",
   "version": "3.7.3"
  }
 },
 "nbformat": 4,
 "nbformat_minor": 2
}
