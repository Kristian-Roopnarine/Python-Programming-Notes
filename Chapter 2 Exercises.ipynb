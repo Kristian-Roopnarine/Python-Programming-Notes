{
 "cells": [
  {
   "cell_type": "code",
   "execution_count": 1,
   "metadata": {},
   "outputs": [
    {
     "name": "stdout",
     "output_type": "stream",
     "text": [
      "What is the Celsius temperature? 5\n",
      "The temperature is 41.0  degrees fahrenheit\n"
     ]
    }
   ],
   "source": [
    "# convert.py\n",
    "# A program to convert Celsius temps to Fahrenheit\n",
    "\n",
    "def main():\n",
    "    celsius = eval(input('What is the Celsius temperature? '))\n",
    "    fahrenheit = 9/5 * celsius + 32\n",
    "    print('The temperature is', fahrenheit, ' degrees fahrenheit')\n",
    "main()"
   ]
  },
  {
   "cell_type": "markdown",
   "metadata": {},
   "source": [
    "______"
   ]
  },
  {
   "cell_type": "markdown",
   "metadata": {},
   "source": [
    "Modify the convert.py program with a loop so that it executes 5 times before quitting. Each time through the loop, the program should get another temperature from the user and print the converted value."
   ]
  },
  {
   "cell_type": "code",
   "execution_count": 2,
   "metadata": {},
   "outputs": [
    {
     "name": "stdout",
     "output_type": "stream",
     "text": [
      "What is the Celsius temperature? 0\n",
      "The temperature is 32.0  degrees fahrenheit\n",
      "What is the Celsius temperature? 1\n",
      "The temperature is 33.8  degrees fahrenheit\n",
      "What is the Celsius temperature? 2\n",
      "The temperature is 35.6  degrees fahrenheit\n",
      "What is the Celsius temperature? 3\n",
      "The temperature is 37.4  degrees fahrenheit\n",
      "What is the Celsius temperature? 4\n",
      "The temperature is 39.2  degrees fahrenheit\n"
     ]
    }
   ],
   "source": [
    "for i in range(5):\n",
    "    main()"
   ]
  },
  {
   "cell_type": "markdown",
   "metadata": {},
   "source": [
    "_____________________________________________________"
   ]
  },
  {
   "cell_type": "markdown",
   "metadata": {},
   "source": [
    "Modify the convert.py program so that it computes and prints a table of Celsius temperatures and Fahrenheight equivalents every 10 degrees from 0 to 100 Celsius."
   ]
  },
  {
   "cell_type": "code",
   "execution_count": 5,
   "metadata": {},
   "outputs": [
    {
     "name": "stdout",
     "output_type": "stream",
     "text": [
      "Degrees in Celsius: 0 | Degrees in Fahrenheit: 32.0 \n",
      "Degrees in Celsius: 10 | Degrees in Fahrenheit: 50.0 \n",
      "Degrees in Celsius: 20 | Degrees in Fahrenheit: 68.0 \n",
      "Degrees in Celsius: 30 | Degrees in Fahrenheit: 86.0 \n",
      "Degrees in Celsius: 40 | Degrees in Fahrenheit: 104.0 \n",
      "Degrees in Celsius: 50 | Degrees in Fahrenheit: 122.0 \n",
      "Degrees in Celsius: 60 | Degrees in Fahrenheit: 140.0 \n",
      "Degrees in Celsius: 70 | Degrees in Fahrenheit: 158.0 \n",
      "Degrees in Celsius: 80 | Degrees in Fahrenheit: 176.0 \n",
      "Degrees in Celsius: 90 | Degrees in Fahrenheit: 194.0 \n",
      "Degrees in Celsius: 100 | Degrees in Fahrenheit: 212.0 \n"
     ]
    }
   ],
   "source": [
    "for celsius in range(0,110,10): # celsius temperatures\n",
    "    fahrenheit = 9/5 * celsius + 32\n",
    "    print('Degrees in Celsius: %s | Degrees in Fahrenheit: %s ' % (celsius,fahrenheit))"
   ]
  },
  {
   "cell_type": "markdown",
   "metadata": {},
   "source": [
    "________"
   ]
  },
  {
   "cell_type": "markdown",
   "metadata": {},
   "source": [
    "Write a program that converts temperatures from Fahrenheight to Celsius"
   ]
  },
  {
   "cell_type": "code",
   "execution_count": 12,
   "metadata": {},
   "outputs": [
    {
     "name": "stdout",
     "output_type": "stream",
     "text": [
      "This program will convert Fahrenheit temperatures into Celsius.\n",
      "What is the temperature in fahrenheit: 212\n",
      "100.0 degrees celsius.\n"
     ]
    }
   ],
   "source": [
    "def main():\n",
    "    print('This program will convert Fahrenheit temperatures into Celsius.')\n",
    "    fahrenheit = eval(input('What is the temperature in fahrenheit: '))\n",
    "    celsius = 5/9 * (fahrenheit - 32)\n",
    "    print('%s degrees celsius.' % (celsius))\n",
    "main()"
   ]
  },
  {
   "cell_type": "markdown",
   "metadata": {},
   "source": [
    "_____________________"
   ]
  },
  {
   "cell_type": "code",
   "execution_count": null,
   "metadata": {},
   "outputs": [],
   "source": []
  }
 ],
 "metadata": {
  "kernelspec": {
   "display_name": "Python 3",
   "language": "python",
   "name": "python3"
  },
  "language_info": {
   "codemirror_mode": {
    "name": "ipython",
    "version": 3
   },
   "file_extension": ".py",
   "mimetype": "text/x-python",
   "name": "python",
   "nbconvert_exporter": "python",
   "pygments_lexer": "ipython3",
   "version": "3.7.3"
  }
 },
 "nbformat": 4,
 "nbformat_minor": 2
}
