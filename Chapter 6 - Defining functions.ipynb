{
 "cells": [
  {
   "cell_type": "markdown",
   "metadata": {},
   "source": [
    "## The Function of functions\n",
    "\n",
    "Functions can be used to reduce code duplication and to make programs more understandable and easier to maintain. "
   ]
  },
  {
   "cell_type": "markdown",
   "metadata": {},
   "source": [
    "___________"
   ]
  },
  {
   "cell_type": "markdown",
   "metadata": {},
   "source": [
    "## Functions, Informally\n",
    "\n",
    "Functions can be thought of as subprograms- a small program inside a program. The basic idea of a function is that we write a sequence of statements and give that sequence a name. To illustrate the uses of functions we can create a program to print out the lyrics to happy birthday. \n",
    "\n",
    "Happy birthday to you! <br>\n",
    "Happy birthday to you! <br>\n",
    "Happy birthday to you, dear *insert-name*. <br>\n",
    "Happy birthday to you! <br>\n",
    "\n",
    "A simple approach to creating this song is to use four print statements.\n",
    "\n",
    "```python\n",
    "\n",
    "def main():\n",
    "    print('Happy birthday to you!')\n",
    "    print('Happy birthday to you!')\n",
    "    print('Happy birthday, dear Fred')\n",
    "    print('Happy birthday to you!')\n",
    "```\n",
    "\n",
    "There is some duplicated code in this program but since it is only four lines of code, it isn't a big deal. We can shorten this by introducing a function to print the first, second and last line of the song.\n",
    "\n",
    "```python\n",
    "def happy():\n",
    "    print('Happy birthday to you!')\n",
    "```\n",
    "\n",
    "Now we can redo the verse for Fred by using the function happy instead of printing every line.\n",
    "\n",
    "```python\n",
    "def singFred():\n",
    "    happy()\n",
    "    happy()\n",
    "    print('Happy birthday, dear Fred')\n",
    "    happy()\n",
    "```\n",
    "\n",
    "This is all fine and dandy but what if we want to sing happy birthday to another person? We'd have to create a whole new function and repeat the happy function three times. We can collapse these functions together by using a parameter. \n",
    "\n",
    "```python\n",
    "def sing(person):\n",
    "    happy()\n",
    "    happy()\n",
    "    print('Happy birthday, dear {}.'.format(person))\n",
    "    happy()\n",
    "```\n",
    "\n",
    "This functions makes use of the parameter called person. A parameter is a variable that is initialized when the function is called. With this parameter we can sing happy birthday to Fred and Lucy by supplying their name into the function, this will assign the parameter to the name of the person.\n",
    "\n",
    "\n",
    "```python \n",
    "sing(Fred)\n",
    "sing(Lucy)\n",
    "```"
   ]
  },
  {
   "cell_type": "markdown",
   "metadata": {},
   "source": [
    "___________"
   ]
  },
  {
   "cell_type": "markdown",
   "metadata": {},
   "source": [
    "## Functions and Parameters: The Exciting Details\n",
    "\n",
    "Parameters are important when dealing with functions because of the concept of _scope_. Scope refers to where the variable may be referenced in a program. When a parameter is initialized the scope of that parameter is local to that function, it is created and destoryed within that function. This can be confusing when parameters have the same names as variables outside of a function. The only way for a function to see the variable from another function is for the variable to be passed as a parameter. Let's take an indepth look at how function declarations work.\n",
    "\n",
    "The general form for defining a function is:<br>\n",
    "\n",
    "```python\n",
    "def *name*(*formal-parameters*):\n",
    "    code\n",
    "```\n",
    "\n",
    "The name of the function is an identifier, formal-parameters is a (possibly empty) sequence of variable names which are also identifiers. The formal parameters are only accessible within the code body of the function. Variables with identical names elsewhere in the program are distinct from the format parameters and variables inside the function body. You call a function by using its name followed by a list of actual parameters or arguments.<br>\n",
    "\n",
    "When Python comes to a function call it initiates a four step process:\n",
    "1. The calling program suspends execution at the point of the call.\n",
    "2. The formal parameters of the function get assigned the values supplied by the actual parameters of the call.\n",
    "3. The body of the function is executed.\n",
    "4. Control returns to the point just after where the function was called.\n",
    "\n",
    "Let's see how this works out with our sing() function from earlier with the following code:\n",
    "\n",
    "```python\n",
    "sing('Fred')\n",
    "print()\n",
    "sing('Lucy')\n",
    "```\n",
    "\n",
    "When Python gets to sing('Fred'), execution of the main() function stops (because these are wrapped in the main function). Python looks up the definition of sing and sees that it has a single parameter, person. The parameter is assigned the value of the actual parameter, which is equivalent to:\n",
    "\n",
    "```python\n",
    "person = \"Fred\"\n",
    "```\n",
    "\n",
    "At this point Python executes the body of sing. The first statement is then another function call to happy(). Python temporarily suspends execution of sing() and transfers control to happy(). Python executes the print statement within happy(), control returns to wherever it left off in sing(). The execution continues in this manner until either a bug or all the code has been executed. When Python gets to the end of sing, control return to main. The person variable in sing dissappears after the sing function finishes executing. The memory occupied by local function variables is reclaimed when the function finished. Local variables do not retain any variables from one function execution to the next.\n",
    "\n",
    "This was an explanation with only one parameter. However, when there are multiple parameters, the actual parameters are matched up with the formal parameters by position. The first actual parameter is assigned to the first formal parameter, the second actual parameter is assigned to the second formal parameter etc etc.\n"
   ]
  },
  {
   "cell_type": "markdown",
   "metadata": {},
   "source": [
    "___________"
   ]
  },
  {
   "cell_type": "markdown",
   "metadata": {},
   "source": [
    "## Functions that return values\n",
    "\n",
    "So far we've seen functions that take in a parameter and utilize it during the function body, Often times we would like functions to return a value after it has been changed or formed in the code body. In fact, the fundamental ideas and vocabulary of functions are borrowed from mathematics, where a function is considered to be a relation between input variables and output variables. \n",
    "\n",
    "So far we've been discussing function detals with examples where functions are being used as new commands and functions are invoked to varry out the commands. If we take the mathematical view, function calls are really expressions that produce results. \n",
    "\n",
    "It's very easy to write functions that return values. Let's show this using a simple function that returns the squared value of a parameter.\n",
    "\n",
    "```python\n",
    "def square(x):\n",
    "    return x ** 2\n",
    "```\n",
    "When Python encounters a return statement, it immediately exits the current function and return control to the point just after where the function was called. In addition, the value provided in the return statement is sent back to the caller as an expression result. \n",
    "\n",
    "Value returning functions are exetremely useful and flexible because they can be combined with other expressions. Sometimes a function needs to return more than one value.\n",
    "\n",
    "```python\n",
    "def sumDiff(x,y):\n",
    "    sum = x+y\n",
    "    diff = x-y\n",
    "    return x,y\n",
    "```\n",
    "As with parameters, when multiple values are returned from a function, they are assigned to variables by position. \n",
    "\n",
    "As a side note, functions without a return statement return None. "
   ]
  },
  {
   "cell_type": "markdown",
   "metadata": {},
   "source": [
    "___________"
   ]
  },
  {
   "cell_type": "markdown",
   "metadata": {},
   "source": [
    "## Functions that modify parameters\n",
    "\n",
    "To understand how functions properly modify parameters we need to understand how assignment works much deeper in Python. Let's create a function to understand this a bit more.\n",
    "\n",
    "```python\n",
    "#addinterest.py1\n",
    "\n",
    "def addInterest(balance,rate):\n",
    "    newBalance = balance * (1+rate)\n",
    "    balance = newBalance\n",
    "```\n",
    "The purpose of this function is to set the balance of the account to a value that has been updated by the amount of interest.\n",
    "\n",
    "```python\n",
    "def test():\n",
    "    amount = 1000\n",
    "    rate = 0.05\n",
    "    addInterest(amount,rate)\n",
    "    print(amount)\n",
    "```\n",
    "When we run this function the amount does not change! Let's trace the execution of this program to understand why the amount variable remained unchanged. The first two lines of the test function create the variables amount and rate. Control then transfers to the addInterest function where the formal parameters amount and rate are assigned the values from the actual parameters. Even though the formal parameters and actual parameters have the same names, the amount and rate in the scope of addInterest are different than the amount and rate variables within the test function scope. The function body of addInterest executes and then control returns to test(), and the local variables that were modified in the addInterest() function are destroyed. To summarize this interaction, the formal parameters of a function only recieve the values of the actual parameters. The function does not gain access to the variable that holds the actual parameter; therefore, assigning a new value to a formal parameter has no effect on the variable containing the actual parameter. To update the amount variable we need to return the newBalance and assign it to amount.\n",
    "\n",
    "```python\n",
    "\n",
    "def addInterest(balance,rate):\n",
    "    newBalance = balance * (1+rate)\n",
    "    return newBalance\n",
    "\n",
    "def test():\n",
    "    amount = 1000\n",
    "    rate = 0.05\n",
    "    amount = addInterest(amount,rate)\n",
    "    print(amount)\n",
    "```\n",
    "\n",
    "With this return statement the amount variable is assigned the updated value in newBalance! Let's make this a bit more complex and say that we want to write a program that deals with many accounts. We could store the bank information as a list in balances. We can then update the first amount in the list with:\n",
    "\n",
    "```python\n",
    "balances[0] = balances[0] * (1 + rate)\n",
    "```\n",
    "\n",
    "This works because lists are mutable. Now to update all the values in the list we'll need a for loop to iterate through every value in the list.\n",
    "\n",
    "```python\n",
    "def addInterest(balances,rate):\n",
    "    for i in range(len(balances)):\n",
    "        balances[i] = balances[i] * (1 + rate)\n",
    "        \n",
    "def test():\n",
    "    amounts = [1000,2200,800,360]\n",
    "    rate = 0.05\n",
    "    addInterest(amounts,rate)\n",
    "    print(amounts)\n",
    "```\n",
    "When we run this program we see that the values in the amounts variable have been updated! This is weird because we didn't execute any return statement or reassigning amounts. In this example, the function seems to change the value of the amounts variable. \n",
    "\n",
    "When test is called it creates the new variables amounts and rate. Then control transfers to the addInterest function where assigns the formal parameters to the actual parameters. The difference is now balances is a list object containing four integer values. When the for loop is executed and the new values are created, the assignment of these new values into the list caused it to refer to the new values. The old values will get removed when Python does its garbage collection. When addInterest terminates, the list stored in amounts now contains the new balances. The important thing is that the amounts variable was never changed. It still refers to the same list that it did before the call to addInterest. The state of the list has changed, and this change is visible back in the calling program. \n",
    "\n",
    "We've pretty much covered the basics about parameters. These parameters are passed into functions by values. However, if the actual parameter is a variable whose value is a mutable object ( list a list), then changes to the state of the object will be visible. "
   ]
  },
  {
   "cell_type": "markdown",
   "metadata": {},
   "source": [
    "___________"
   ]
  },
  {
   "cell_type": "markdown",
   "metadata": {},
   "source": [
    "## Functions and Program Structure\n",
    "\n",
    "Writing all these functions seems to be making program longer because of all this code. A second reason that we write functions is to make programs more modular. As algorithms become longer and longer it becomes harder to keep track of what's happening. One way to deal with this complexity is to break the algorithms down into smaller subprograms. "
   ]
  },
  {
   "cell_type": "markdown",
   "metadata": {},
   "source": [
    "___________"
   ]
  },
  {
   "cell_type": "markdown",
   "metadata": {},
   "source": [
    "## Chapter Summary\n",
    "\n",
    "* A function is a kind of subprogram. Programmers use functions to reduce code duplication and to help structure or modularize programs. Once a function is defined, it may be called multiple times from many different places in a program. Parameters allow functions to have changeable parts. The parameters appearing in the function defintion are called formal parameters, and the expressions appearing in a function call are known as actual parameters.\n",
    "\n",
    "* A call to a function intiaites a four-step process:\n",
    "1. The calling program is suspended\n",
    "2. The values of the actual parameters are assigned to the formal parameters.\n",
    "3. The body of the function is executed.\n",
    "4. Control returns immediately following the function call in the calling program. The value returned by the function is used as the expression result.\n",
    "\n",
    "* The scope of a variable is the area of the program where it may be referenced. Formal parameters and other variables inside function definitions are local to the function. Local variables are distinct from variables of the same name that may be used elsewhere in the program.\n",
    "\n",
    "* Functions can communicate information back to the caller through return values. In Python, functions may return multiple values. Value- returning functions should generally be called from inside an expression. Functions that don't explicitly return a value return the special object None.\n",
    "\n",
    "* Python passes parameters by value. If the value being passed is a mutable obkect, then changes to the object may be visible "
   ]
  },
  {
   "cell_type": "markdown",
   "metadata": {},
   "source": []
  },
  {
   "cell_type": "markdown",
   "metadata": {},
   "source": []
  },
  {
   "cell_type": "markdown",
   "metadata": {},
   "source": []
  },
  {
   "cell_type": "markdown",
   "metadata": {},
   "source": []
  },
  {
   "cell_type": "markdown",
   "metadata": {},
   "source": []
  },
  {
   "cell_type": "markdown",
   "metadata": {},
   "source": []
  },
  {
   "cell_type": "markdown",
   "metadata": {},
   "source": []
  }
 ],
 "metadata": {
  "kernelspec": {
   "display_name": "Python 3",
   "language": "python",
   "name": "python3"
  },
  "language_info": {
   "codemirror_mode": {
    "name": "ipython",
    "version": 3
   },
   "file_extension": ".py",
   "mimetype": "text/x-python",
   "name": "python",
   "nbconvert_exporter": "python",
   "pygments_lexer": "ipython3",
   "version": "3.7.3"
  }
 },
 "nbformat": 4,
 "nbformat_minor": 2
}
