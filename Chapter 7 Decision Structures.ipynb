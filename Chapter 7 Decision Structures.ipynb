{
 "cells": [
  {
   "cell_type": "markdown",
   "metadata": {},
   "source": [
    "## Simple Decisions\n",
    "\n",
    "So far we've looked at programs as a sequence of instructions that are followed one by another. However, this can be tricky when we come across more complex scenarios. For example, what if we wanted to execute a line of code ONLY if a certain condition was met? This can be done with special statements known as _control structures_. We look at _decision structures_ that allow a program to execute different sequences/blocks of code for different conditions. "
   ]
  },
  {
   "cell_type": "markdown",
   "metadata": {},
   "source": [
    "-----"
   ]
  },
  {
   "cell_type": "markdown",
   "metadata": {},
   "source": [
    "## Example: Temperature warnings\n",
    "\n",
    "Let's return back to our temperature converter to give an example of a decision structure. Instead of knowing the exact temperature let's say we'd rather know whether a temperature was hot or cold. An example algorithm could be:\n",
    "\n",
    "```python\n",
    "\n",
    "Input the temperature as Celcious (call it celsius)\n",
    "Calculate fahrenheit at 9/5 celsius + 32\n",
    "Output Fahrenheit\n",
    "if fahrenheit > 90\n",
    "    print a heat warning\n",
    "if fahrenheit < 30\n",
    "    print a cold warning\n",
    "```\n",
    "\n",
    "This design has two simple decisions at the end. The indendation tells our program to only execute that line of code if the condition is met. In this case the decision is whether the fahrenheit is greater than 90 or less than 30 degrees. The code would look like:\n",
    "\n",
    "```python\n",
    "\n",
    "def main():\n",
    "    celsius = float(input('What is the Celsius temperature?'))\n",
    "    fahrenheit = 9/5 * celsius + 32\n",
    "    print('The temperature is {}.'.format(fahrenheit))\n",
    "    \n",
    "    if fahrenheit > 90:\n",
    "        print('It\\'s really hot out there. Be careful!')\n",
    "    if fahrenheit < 30:\n",
    "        print('Be sure to dress warmly.')\n",
    "```\n",
    "\n",
    "When the program executes the if statement, if the condition is true then the indented line of code below is evaluated. If the condition is false then the statements in the body are skipped. \n",
    "\n",
    "\n",
    "### Forming simple conditions\n",
    "\n",
    "We've talked about conditionals but what exactly are they? Simple conditions follow the general form:\n",
    "\n",
    "expression- relop -expression\n",
    "\n",
    "where relop is a relational operator. The realtional operator is just a fancy name for the mathematical concept like \"greater than\" or \"equal to\". There are a total of 6 relational operators that are used in Python. Conditions can compare numbers or strings. It compares numbers lexigraphically. Strings are put into alphabetic order according to the underlying Unicode values. Conditions are a type of expression that evaluate to a data type called a Boolean and this can either be True or False. \n",
    "\n",
    "\n",
    "### Example: Conditional Program Execution\n",
    "\n",
    "When creating a program it can be useful to create a hybrid. Meaning the program can be run stand alone or it can imported into another program, as a module, to be used. Python evaluates the lines of a module during the import process which could cause programs to run when they are imported. We can alter this by making the call to main at the bottom of the program to be made conditional. When a module is imported, Python creates a special variable called __name__, inside that module and assigns it a string representation of the module's name. However, when a program is run directly and not imported then __name__ = '__main__'. Putting this together we can change the bottom of our program to say:\n",
    "\n",
    "```python\n",
    "if __name__ == '__main__':\n",
    "    main()\n",
    "```\n",
    "This guarantees that main will automatically run when the program is invoked directly but will not run if the module is imported!"
   ]
  },
  {
   "cell_type": "markdown",
   "metadata": {},
   "source": [
    "-----"
   ]
  },
  {
   "cell_type": "markdown",
   "metadata": {},
   "source": [
    "## Two - Way Decisions\n",
    "\n",
    "Now that we can selectively execute certain sequences in a program using decisions we can change our quadratic solver we made in chapter 3.\n",
    "\n",
    "```python\n",
    "#quadratic.py\n",
    "#A program that computes the real roots of a quadratic equation\n",
    "#Illustrates the use of the math library.\n",
    "# Note: The program crashes if no real roots are found\n",
    "\n",
    "import math\n",
    "\n",
    "def main():\n",
    "    print('This program finds the real solutions to a quadratic.')\n",
    "    print()\n",
    "    \n",
    "    a = float(input('Enter coefficient a: '))\n",
    "    b= float(input('Enter coefficient b: '))\n",
    "    c = float(input('Enter coefficient c: '))\n",
    "    \n",
    "    discRoot = math.sqrt(b * b - 4 * a * c)\n",
    "    root1 = (-b + discRoot) / (2 * a)\n",
    "    root2 = (-b - discRoot) / (2 * a)\n",
    "    \n",
    "    print()\n",
    "    print('The real solutions are:', root1,root2)\n",
    "```\n",
    "\n",
    "Recall that this function throws an error when the given coefficients have no real roots. We encounter this problem when there is a negative number in the math.sqrt()! We can use a decision to check for this situation to make sure the program can't crash.\n",
    "\n",
    "```python\n",
    "\n",
    "import math\n",
    "\n",
    "def main():\n",
    "    print('This program finds the real solutions to a quadratic.')\n",
    "    print()\n",
    "    \n",
    "    a = float(input('Enter coefficient a: '))\n",
    "    b= float(input('Enter coefficient b: '))\n",
    "    c = float(input('Enter coefficient c: '))\n",
    "    discrim = b * b - 4 * a * c\n",
    "    if discrim >= 0:\n",
    "        discRoot = math.sqrt(discrim)\n",
    "        root1 = (-b + discRoot) / (2 * a)\n",
    "        root2 = (-b - discRoot) / (2 * a)\n",
    "        print('\\nThe real solutions are:', root1,root2)\n",
    "```\n",
    "\n",
    "Now this function will only evaluate the roots if there is a 0 or positive number. However, if there are negative roots the program ends without returning anything to the user. We can solve this by adding another decision at the end.\n",
    "\n",
    "```python\n",
    "if discrim < 0:\n",
    "    print('The equation has no real roots!')\n",
    "```\n",
    "\n",
    "We've added the second decision but it seems counter intuitive. If discrim is greater than 0 it has real roots, so obviously if it's less than 0 it won't have real roots. In Python we can simplify this using a two-way decision by attaching an else clause into an if clause.\n",
    "\n",
    "```python\n",
    "if discrim > 0:\n",
    "    evaluate roots\n",
    "else:\n",
    "    print('no real roots')\n",
    "```\n",
    "\n"
   ]
  },
  {
   "cell_type": "markdown",
   "metadata": {},
   "source": [
    "-----"
   ]
  },
  {
   "cell_type": "markdown",
   "metadata": {},
   "source": [
    "## Multi-way Decisions\n",
    "\n"
   ]
  },
  {
   "cell_type": "markdown",
   "metadata": {},
   "source": []
  },
  {
   "cell_type": "markdown",
   "metadata": {},
   "source": []
  },
  {
   "cell_type": "markdown",
   "metadata": {},
   "source": []
  },
  {
   "cell_type": "markdown",
   "metadata": {},
   "source": []
  },
  {
   "cell_type": "markdown",
   "metadata": {},
   "source": []
  },
  {
   "cell_type": "markdown",
   "metadata": {},
   "source": []
  }
 ],
 "metadata": {
  "kernelspec": {
   "display_name": "Python 3",
   "language": "python",
   "name": "python3"
  },
  "language_info": {
   "codemirror_mode": {
    "name": "ipython",
    "version": 3
   },
   "file_extension": ".py",
   "mimetype": "text/x-python",
   "name": "python",
   "nbconvert_exporter": "python",
   "pygments_lexer": "ipython3",
   "version": "3.7.3"
  }
 },
 "nbformat": 4,
 "nbformat_minor": 2
}
