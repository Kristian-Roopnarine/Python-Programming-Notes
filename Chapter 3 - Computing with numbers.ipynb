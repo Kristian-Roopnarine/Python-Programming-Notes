{
 "cells": [
  {
   "cell_type": "markdown",
   "metadata": {},
   "source": [
    "## Numeric data types\n",
    "\n",
    "There are different types of number data types you can have in Python and many programming languages which are ints and floats. Whole numbers are represented using the _int_ data type. Values of type _int_ can be a positive or negative whole number. Numbers that have fractional parts are represented as a float data type. Python has a _type_ function that can tell us the data type of any value."
   ]
  },
  {
   "cell_type": "markdown",
   "metadata": {},
   "source": [
    "_____________"
   ]
  },
  {
   "cell_type": "markdown",
   "metadata": {},
   "source": [
    "## Type Conversions and Rounding\n",
    "\n",
    "We can convert floats to ints and vice versa. Converting floats to ints can be dangerous because the fractional information is lost upon converion but converting ints to floats does not lead to any information loss. We can do this with _mixed-type expressions_. When performing operations involving both floats and ints Python will convert them to produce a float data type. If we want to manually convert these data types we can use the Python built-in functions _int_ and _float_.\n",
    "\n",
    "A general way to round numbers is to use Python's built-in _round_ function, which rounds a number to the nearest whole value. Calling _round_ will return an _int_ value and is an alternate way of converting a _float_ to an _int_. If you'd like to round a _float_ to another _float_ you can apply a second parameter to _round_ that specifies the number of digits you want after the decimal point."
   ]
  },
  {
   "cell_type": "markdown",
   "metadata": {},
   "source": [
    "_____________"
   ]
  },
  {
   "cell_type": "markdown",
   "metadata": {},
   "source": [
    "## Using the Math Library\n",
    "\n",
    "Python provides many other useful mathematical operations in a special _math_ library. An example will be the quadratic equation:\n",
    "\n",
    "```python\n",
    "#quadratic.py\n",
    "#A program that computes the real roots of a quadratic equation\n",
    "#Illustrates the use of the math library.\n",
    "# Note: The program crashes if no real roots are found\n",
    "\n",
    "import math\n",
    "\n",
    "def main():\n",
    "    print('This program finds the real solutions to a quadratic.')\n",
    "    print()\n",
    "    \n",
    "    a = float(input('Enter coefficient a: '))\n",
    "    b= float(input('Enter coefficient b: '))\n",
    "    c = float(input('Enter coefficient c: '))\n",
    "    \n",
    "    discRoot = math.sqrt(b * b - 4 * a * c)\n",
    "    root1 = (-b + discRoot) / (2 * a)\n",
    "    root2 = (-b - discRoot) / (2 * a)\n",
    "    \n",
    "    print()\n",
    "    print('The real solutions are:', root1,root2)\n",
    "```\n",
    "\n",
    "Here we used the _.sqrt_ which is a function that lives in the _math_ module. "
   ]
  },
  {
   "cell_type": "markdown",
   "metadata": {},
   "source": []
  },
  {
   "cell_type": "markdown",
   "metadata": {},
   "source": []
  },
  {
   "cell_type": "markdown",
   "metadata": {},
   "source": []
  },
  {
   "cell_type": "markdown",
   "metadata": {},
   "source": []
  },
  {
   "cell_type": "markdown",
   "metadata": {},
   "source": []
  },
  {
   "cell_type": "markdown",
   "metadata": {},
   "source": []
  },
  {
   "cell_type": "markdown",
   "metadata": {},
   "source": []
  },
  {
   "cell_type": "markdown",
   "metadata": {},
   "source": []
  },
  {
   "cell_type": "markdown",
   "metadata": {},
   "source": []
  },
  {
   "cell_type": "markdown",
   "metadata": {},
   "source": []
  },
  {
   "cell_type": "markdown",
   "metadata": {},
   "source": []
  },
  {
   "cell_type": "markdown",
   "metadata": {},
   "source": []
  },
  {
   "cell_type": "markdown",
   "metadata": {},
   "source": []
  }
 ],
 "metadata": {
  "kernelspec": {
   "display_name": "Python 3",
   "language": "python",
   "name": "python3"
  },
  "language_info": {
   "codemirror_mode": {
    "name": "ipython",
    "version": 3
   },
   "file_extension": ".py",
   "mimetype": "text/x-python",
   "name": "python",
   "nbconvert_exporter": "python",
   "pygments_lexer": "ipython3",
   "version": "3.7.3"
  }
 },
 "nbformat": 4,
 "nbformat_minor": 2
}
